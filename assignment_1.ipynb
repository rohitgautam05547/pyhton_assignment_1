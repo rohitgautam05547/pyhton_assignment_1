{
 "cells": [
  {
   "cell_type": "markdown",
   "id": "a82113e1",
   "metadata": {},
   "source": [
    "# LIST"
   ]
  },
  {
   "cell_type": "markdown",
   "id": "da680226",
   "metadata": {},
   "source": [
    "### Q: Write a Python program to remove duplicates from a list."
   ]
  },
  {
   "cell_type": "code",
   "execution_count": 1,
   "id": "c6891188",
   "metadata": {},
   "outputs": [
    {
     "name": "stdout",
     "output_type": "stream",
     "text": [
      "[10, 20, 30, 20, 10, 50, 60, 40, 80, 50, 40]\n",
      "[10, 20, 30, 50, 60, 40, 80]\n",
      "[40, 10, 80, 50, 20, 60, 30]\n"
     ]
    }
   ],
   "source": [
    "a = [10,20,30,20,10,50,60,40,80,50,40]\n",
    "print(a)\n",
    "c =[]\n",
    "for i in a:\n",
    "    if i not in c:\n",
    "        c.append(i)\n",
    "print(c)\n",
    "\n",
    "#____________or_____________\n",
    "\n",
    "# converting in set can change the order of list.\n",
    "# b = [* set(a)]\n",
    "# print(b)\n",
    "\n",
    "b= set(a)     \n",
    "a= list(b)\n",
    "print(a)\n"
   ]
  },
  {
   "cell_type": "markdown",
   "id": "a5eb5940",
   "metadata": {},
   "source": [
    "### Q. Write a Python program to sum all the items in a list."
   ]
  },
  {
   "cell_type": "code",
   "execution_count": 2,
   "id": "abbd2299",
   "metadata": {},
   "outputs": [
    {
     "name": "stdout",
     "output_type": "stream",
     "text": [
      "410\n"
     ]
    },
    {
     "data": {
      "text/plain": [
       "410"
      ]
     },
     "execution_count": 2,
     "metadata": {},
     "output_type": "execute_result"
    }
   ],
   "source": [
    "a = [10,20,30,20,10,50,60,40,80,50,40]\n",
    "\n",
    "sum =0\n",
    "for i in a:\n",
    "    sum +=i\n",
    "print (sum)\n",
    "\n",
    "\n",
    "#______or_______\n",
    "\n",
    "def sum_of_list(a_list):\n",
    "    s = 0\n",
    "    for i in a_list:\n",
    "        s+=i\n",
    "        return sum\n",
    "    \n",
    "my_list = [40, 10, 80, 50, 20, 60, 30]\n",
    "sum_of_list(my_list)\n"
   ]
  },
  {
   "cell_type": "markdown",
   "id": "657c59c6",
   "metadata": {},
   "source": [
    "### Q. Write a Python program to count the number of strings from a given list of strings with length 2 or more and the first and last characters are the same."
   ]
  },
  {
   "cell_type": "code",
   "execution_count": 3,
   "id": "33d0b177",
   "metadata": {},
   "outputs": [
    {
     "name": "stdout",
     "output_type": "stream",
     "text": [
      "5\n"
     ]
    }
   ],
   "source": [
    "s_list=['abc', 'xyz', 'aba', '1221','873','utfbgu','kfgbhdi','tjldfgljgbt','234792']\n",
    "count = 0\n",
    "for item in s_list:\n",
    "    if (len(item)>=2 and item[0]==item[-1]):\n",
    "        count +=1\n",
    "print(count)\n",
    "\n",
    "# same thing we can do by function "
   ]
  },
  {
   "cell_type": "markdown",
   "id": "2dc89463",
   "metadata": {},
   "source": [
    "### Q. Write a Python program to print a specified list after removing the 0th, 4th and 5th elements."
   ]
  },
  {
   "cell_type": "code",
   "execution_count": 4,
   "id": "c3b5fa4c",
   "metadata": {},
   "outputs": [
    {
     "data": {
      "text/plain": [
       "['Green', 'White', 'Black']"
      ]
     },
     "execution_count": 4,
     "metadata": {},
     "output_type": "execute_result"
    }
   ],
   "source": [
    "INPUT= ['Red', 'Green', 'White', 'Black', 'Pink', 'Yellow']\n",
    "INPUT.pop(5)\n",
    "INPUT.pop(4)\n",
    "INPUT.pop(0)\n",
    "INPUT"
   ]
  },
  {
   "cell_type": "markdown",
   "id": "bd9d4b9b",
   "metadata": {},
   "source": [
    "### Q. Write a Python program to print the numbers of a specified list after removing even numbers from it.\n"
   ]
  },
  {
   "cell_type": "code",
   "execution_count": 5,
   "id": "b925ea97",
   "metadata": {},
   "outputs": [
    {
     "name": "stdout",
     "output_type": "stream",
     "text": [
      "[7, 25, 27]\n"
     ]
    }
   ],
   "source": [
    "a = [7,8, 120, 25, 44, 20, 27]\n",
    "b = []\n",
    "for i in a :\n",
    "    if (not i%2==0):\n",
    "        b.append(i)\n",
    "        \n",
    "print(b)"
   ]
  },
  {
   "cell_type": "markdown",
   "id": "53003afe",
   "metadata": {},
   "source": [
    "### Q. Write a Python program to get unique values from a list."
   ]
  },
  {
   "cell_type": "code",
   "execution_count": 6,
   "id": "b5bf7f1e",
   "metadata": {},
   "outputs": [
    {
     "name": "stdout",
     "output_type": "stream",
     "text": [
      "[40, 10, 50, 20, 60, 30]\n"
     ]
    }
   ],
   "source": [
    "l = [10, 20, 30, 40, 20, 50, 60, 40]\n",
    "n_l = set(l)\n",
    "l2 = list(n_l)\n",
    "print(l2)"
   ]
  },
  {
   "cell_type": "markdown",
   "id": "97c1a278",
   "metadata": {},
   "source": [
    "### Q. Write a Python program to convert a list of characters into a string."
   ]
  },
  {
   "cell_type": "code",
   "execution_count": 7,
   "id": "e8f62c37",
   "metadata": {},
   "outputs": [
    {
     "name": "stdout",
     "output_type": "stream",
     "text": [
      "<class 'str'> my name is rohit\n"
     ]
    }
   ],
   "source": [
    "string_list=['my','name','is',\"rohit\"]\n",
    "string = ' '.join(string_list)\n",
    "print(type(string),string)\n"
   ]
  },
  {
   "cell_type": "markdown",
   "id": "a524ce0f",
   "metadata": {},
   "source": [
    "### Q. Write a Python program to calculate the difference between the two lists."
   ]
  },
  {
   "cell_type": "code",
   "execution_count": 8,
   "id": "c5749364",
   "metadata": {},
   "outputs": [
    {
     "name": "stdout",
     "output_type": "stream",
     "text": [
      "[2, 3, 4, 5, 6, 8, 9]\n"
     ]
    }
   ],
   "source": [
    "# although it is not the correct way because when we convert the list into set then the duplicate value will over write at once in the set and data will be reduced\n",
    "\n",
    "\n",
    "\n",
    "list1 = [1, 3, 5, 7, 9]\n",
    "list2 = [1, 2, 4, 6, 7, 8]\n",
    "\n",
    "# c = [* set(list1)-set(list2)]\n",
    "# print(c)\n",
    "# d = [* set(list2)-set(list1)]\n",
    "# print(d)\n",
    "# e = [* set(c).union(set(d))]\n",
    "# print(e)\n",
    "\n",
    "#________or\n",
    "\n",
    "i = set(list1).symmetric_difference(set(list2))\n",
    "diff=list(i)\n",
    "print(diff)\n",
    "\n",
    "\n",
    "# _______or\n",
    "\n",
    "# i = set(list1).intersection(set(list2))\n",
    "# print(i)\n",
    "# u = set(list1).union(set(list2))\n",
    "# print(u)\n",
    "# diff= u.difference(i)\n",
    "# diff= list(diff)\n",
    "# print(diff)"
   ]
  },
  {
   "cell_type": "markdown",
   "id": "ee30de27",
   "metadata": {},
   "source": [
    "### Q. Write a Python program to get the frequency of elements in a list."
   ]
  },
  {
   "cell_type": "code",
   "execution_count": 18,
   "id": "62801a48",
   "metadata": {},
   "outputs": [
    {
     "data": {
      "text/plain": [
       "{1: 3, 2: 3, 3: 3, 4: 2, 5: 1}"
      ]
     },
     "execution_count": 18,
     "metadata": {},
     "output_type": "execute_result"
    }
   ],
   "source": [
    "# i solved this question by chatgpt\n",
    "\n",
    "import collections\n",
    "\n",
    "a = [1, 2, 3, 2, 4, 1, 3, 5, 2, 3, 4, 1]\n",
    "new_dict =dict(collections.Counter(a)) \n",
    "new_dict\n",
    "\n",
    "#________or\n",
    "\n",
    "# def element_frequency(l):\n",
    "#     print(Counter(l))\n",
    "#     return Counter(l)\n",
    "\n",
    "# a = [1, 2, 3, 2, 4, 1, 3, 5, 2, 3, 4, 1]\n",
    "# new_dict = element_frequency(a)\n",
    "# for element,count in new_dict.items():\n",
    "#     print(f\"{element}:{count}\")\n",
    "    "
   ]
  },
  {
   "cell_type": "markdown",
   "id": "dc0391a9",
   "metadata": {},
   "source": [
    "### Q. Write a Python program to find common items in two lists."
   ]
  },
  {
   "cell_type": "code",
   "execution_count": null,
   "id": "e6f1a180",
   "metadata": {},
   "outputs": [],
   "source": [
    "color1 = [\"Red\", \"Green\", \"Orange\", \"White\"]\n",
    "color2 = [\"Black\", \"Green\", \"White\", \"Pink\"]\n",
    "\n",
    "common = list(set(color1).intersection(set(color2)))\n",
    "common"
   ]
  },
  {
   "cell_type": "markdown",
   "id": "eb5c1d83",
   "metadata": {},
   "source": [
    "### Q. Write a Python program to create a list by concatenating a given list with a range from 1 to n."
   ]
  },
  {
   "cell_type": "code",
   "execution_count": null,
   "id": "14ae6a40",
   "metadata": {},
   "outputs": [],
   "source": [
    "a= ['p', 'q']\n",
    "c = a*5\n",
    "print(c)\n",
    "\n",
    "\n",
    "# _______or\n",
    "\n",
    "\n",
    "b =[]\n",
    "for n in range(5):\n",
    "    for i in a:\n",
    "        b.append(i+str(n+1))\n",
    "print(b)\n"
   ]
  },
  {
   "cell_type": "markdown",
   "id": "a873de19",
   "metadata": {},
   "source": [
    "### Q. Write a Python program to convert a list of multiple integers into a single integer."
   ]
  },
  {
   "cell_type": "code",
   "execution_count": null,
   "id": "7abf065e",
   "metadata": {},
   "outputs": [],
   "source": [
    "lis = [11, 33, 50]\n",
    "inte= \"\".join(str(i) for i in lis)\n",
    "print(inte)"
   ]
  },
  {
   "cell_type": "markdown",
   "id": "98eef420",
   "metadata": {},
   "source": [
    "### Q. Write a Python program to split a list into different variables."
   ]
  },
  {
   "cell_type": "code",
   "execution_count": null,
   "id": "e7d70d25",
   "metadata": {},
   "outputs": [],
   "source": [
    "# the cocept of unpacking \n",
    "\n",
    "color = [(\"Black\", \"#000000\", \"rgb(0, 0, 0)\"), (\"Red\", \"#FF0000\", \"rgb(255,0, 0)\"), (\"Yellow\", \"#FFFF00\", \"rgb(255, 255, 0)\")]\n",
    "var1, var2, var3 = color\n",
    "print(\"var1 =\",var1)\n",
    "print(\"var2 =\",var2)\n",
    "print(\"var3 =\",var3)"
   ]
  },
  {
   "cell_type": "markdown",
   "id": "7abd4873",
   "metadata": {},
   "source": [
    "### Q. Write a Python program to split a list every Nth element."
   ]
  },
  {
   "cell_type": "code",
   "execution_count": null,
   "id": "9a65745b",
   "metadata": {},
   "outputs": [],
   "source": [
    "a=['a', 'b', 'c', 'd', 'e', 'f', 'g', 'h', 'i', 'j', 'k', 'l', 'm', 'n']\n",
    "b = a[::3]\n",
    "c= a[1::3]\n",
    "d=a[2::3]\n",
    "e= [b,c,d]\n",
    "print(e)"
   ]
  },
  {
   "cell_type": "markdown",
   "id": "e6b8c544",
   "metadata": {},
   "source": [
    "# TUPLE"
   ]
  },
  {
   "cell_type": "markdown",
   "id": "23775b12",
   "metadata": {},
   "source": [
    "### Q. Write a Python program to unpack a tuple into several variables."
   ]
  },
  {
   "cell_type": "code",
   "execution_count": null,
   "id": "83fb4a95",
   "metadata": {},
   "outputs": [],
   "source": [
    "a = (4,8,3)\n",
    "A1,A2,A3= a\n",
    "print(\"A1 =\",A1)\n",
    "print(\"A2 =\",A2)\n",
    "print(\"A3 =\",A3)"
   ]
  },
  {
   "cell_type": "markdown",
   "id": "fad07e27",
   "metadata": {},
   "source": [
    "### Q. Write a Python program to check whether an element (5) exists within a tuple."
   ]
  },
  {
   "cell_type": "code",
   "execution_count": null,
   "id": "e00e4b7c",
   "metadata": {},
   "outputs": [],
   "source": [
    "a= (\"w\", 3, \"r\", \"e\", \"s\", \"o\", \"u\", \"r\", \"c\", \"e\")\n",
    "5 in a"
   ]
  },
  {
   "cell_type": "markdown",
   "id": "a9fe9fee",
   "metadata": {},
   "source": [
    "### Q. Write a Python program to reverse a tuple."
   ]
  },
  {
   "cell_type": "code",
   "execution_count": null,
   "id": "4ce72182",
   "metadata": {},
   "outputs": [],
   "source": [
    "a = (5,10,15,20)\n",
    "# to reverse the tuple\n",
    "a[::-1]"
   ]
  },
  {
   "cell_type": "markdown",
   "id": "5394414f",
   "metadata": {},
   "source": [
    "### Q. Write a Python program to print a tuple with string formatting."
   ]
  },
  {
   "cell_type": "code",
   "execution_count": null,
   "id": "78470a61",
   "metadata": {},
   "outputs": [],
   "source": [
    "a = (100, 200, 300)\n",
    "# b =[]\n",
    "# for i in a:\n",
    "#     b.append(str(i))\n",
    "# a2= tuple(b)\n",
    "# print(a2)\n",
    "\n",
    "# ______________or\n",
    "\n",
    "print(f'this is a tuple{str(a)}')"
   ]
  },
  {
   "cell_type": "markdown",
   "id": "78267ca2",
   "metadata": {},
   "source": [
    "### Q. Write a Python program to remove an empty tuple(s) from a list of tuples."
   ]
  },
  {
   "cell_type": "code",
   "execution_count": null,
   "id": "f715605c",
   "metadata": {},
   "outputs": [],
   "source": [
    "a= [(), (), ('',), ('a', 'b'), ('a', 'b', 'c'), ('d')]\n",
    "# a.remove(())\n",
    "# print(a)\n",
    "\n",
    "\n",
    "b=[]\n",
    "for i in a :\n",
    "    if (not(i==())):  # we can use len function also..\n",
    "        b.append(i)\n",
    "print(b)"
   ]
  },
  {
   "cell_type": "markdown",
   "id": "5a86d67a",
   "metadata": {},
   "source": [
    "### Q. Write a Python program to convert a given string to a tuple."
   ]
  },
  {
   "cell_type": "code",
   "execution_count": null,
   "id": "66b17991",
   "metadata": {},
   "outputs": [],
   "source": [
    "a = \"rohit\"\n",
    "b = []\n",
    "for i in a :\n",
    "    b.append(i)\n",
    "print(tuple(b))"
   ]
  },
  {
   "cell_type": "markdown",
   "id": "092875eb",
   "metadata": {},
   "source": [
    "### Q. Write a Python program to compute the element-wise sum of given tuples."
   ]
  },
  {
   "cell_type": "code",
   "execution_count": null,
   "id": "d6416381",
   "metadata": {},
   "outputs": [],
   "source": [
    "a = (1, 2, 3, 4)\n",
    "b = (3, 5, 2, 1)\n",
    "c = (2, 2, 3, 1)\n",
    "d = []\n",
    "for i in range(4):\n",
    "    d.append(a[i]+b[i]+c[i])\n",
    "print(tuple(d))"
   ]
  },
  {
   "cell_type": "markdown",
   "id": "64de0872",
   "metadata": {},
   "source": [
    "### Q.- Write a Python program to convert a given list of tuples to a list of lists."
   ]
  },
  {
   "cell_type": "code",
   "execution_count": null,
   "id": "df3007db",
   "metadata": {},
   "outputs": [],
   "source": [
    "lt=[(1, 2), (2, 3), (3, 4)]\n",
    "ll=[]\n",
    "for i in lt:\n",
    "    ll.append(list(i))\n",
    "print(ll)"
   ]
  },
  {
   "cell_type": "markdown",
   "id": "06bf4977",
   "metadata": {},
   "source": [
    "### Q. Write a Python program to remove an item from a set if it is present in the set."
   ]
  },
  {
   "cell_type": "code",
   "execution_count": null,
   "id": "dcc1f1f0",
   "metadata": {},
   "outputs": [],
   "source": [
    "a={0, 1, 2, 3, 4, 5}\n",
    "item_to_remove ={2,7}\n",
    "\n",
    "a.difference(item_to_remove)\n",
    "\n",
    "# or___________\n",
    "\n",
    "for i in item_to_remove:\n",
    "    if i in a:\n",
    "        a.remove(i)\n",
    "print(a)"
   ]
  },
  {
   "cell_type": "markdown",
   "id": "ce8de838",
   "metadata": {},
   "source": [
    "### Q. Write a Python program to check if a set is a subset of another set."
   ]
  },
  {
   "cell_type": "code",
   "execution_count": null,
   "id": "8de47a8b",
   "metadata": {},
   "outputs": [],
   "source": [
    "x= {'mango', 'apple'}\n",
    "y= {'mango', 'orange'}\n",
    "z= {'mango'}\n",
    "\n",
    "print(\"x is subset of y =\",x.issubset(y))\n",
    "print(\"x is subset of z =\",x.issubset(z))\n",
    "print(\"y is subset of x =\",y.issubset(x))\n",
    "print(\"y is subset of z =\",y.issubset(z))\n",
    "print(\"z is subset of x =\",z.issubset(x))\n",
    "print(\"z is subset of y =\",z.issubset(y))"
   ]
  },
  {
   "cell_type": "markdown",
   "id": "bba0cffe",
   "metadata": {},
   "source": [
    "### Q. Write a Python program to remove all elements from a given set at once."
   ]
  },
  {
   "cell_type": "code",
   "execution_count": null,
   "id": "8fe2f8c2",
   "metadata": {},
   "outputs": [],
   "source": [
    "a = {'Green', 'Black', 'Red', 'White'}\n",
    "a.clear()\n",
    "print(a)"
   ]
  },
  {
   "cell_type": "markdown",
   "id": "bcff6ea5",
   "metadata": {},
   "source": [
    "### Q. Write a Python program to check if two given sets have no elements in common."
   ]
  },
  {
   "cell_type": "code",
   "execution_count": null,
   "id": "b00866bf",
   "metadata": {},
   "outputs": [],
   "source": [
    "S1={1, 2, 3, 4}\n",
    "S2={4, 5, 6, 7}\n",
    "\n",
    "if S1.isdisjoint(S2):\n",
    "    print(\"there is no common element\",S1.isdisjoint(S2))\n",
    "else:\n",
    "    print(\"there is common between sets so :\",S1.isdisjoint(S2))"
   ]
  },
  {
   "cell_type": "markdown",
   "id": "7a410af0",
   "metadata": {},
   "source": [
    "### Q. Write a Python program to check if a given value(10) is present in a set or not."
   ]
  },
  {
   "cell_type": "code",
   "execution_count": null,
   "id": "19aa7b69",
   "metadata": {},
   "outputs": [],
   "source": [
    "a = {1, 3, 5, 7, 9, 11}\n",
    "b = {10}\n",
    "b in a"
   ]
  },
  {
   "cell_type": "markdown",
   "id": "1960ee8d",
   "metadata": {},
   "source": [
    "### Q. Write a Python program to remove all duplicates from a given list of strings and return a list of unique strings. Use the Python set data type."
   ]
  },
  {
   "cell_type": "code",
   "execution_count": null,
   "id": "aad8b7a6",
   "metadata": {},
   "outputs": [],
   "source": [
    "a = ['Python', 'Exercises', 'Practice', 'Solution', 'Exercises']\n",
    "b = set(a)\n",
    "print(list(b))"
   ]
  },
  {
   "cell_type": "markdown",
   "id": "ac79003a",
   "metadata": {},
   "source": [
    "# DICTIONARY"
   ]
  },
  {
   "cell_type": "markdown",
   "id": "f6e9bc57",
   "metadata": {},
   "source": [
    "##### Q. Write a Python script to add a key to a dictionary."
   ]
  },
  {
   "cell_type": "code",
   "execution_count": null,
   "id": "be7c9aba",
   "metadata": {},
   "outputs": [],
   "source": [
    "A = {0: 10, 1: 20}\n",
    "A[2]=30\n",
    "print(A)"
   ]
  },
  {
   "cell_type": "markdown",
   "id": "8af3d95b",
   "metadata": {},
   "source": [
    "##### Q. Write a Python script to concatenate the following dictionaries to create a new one."
   ]
  },
  {
   "cell_type": "code",
   "execution_count": null,
   "id": "d9bfdd89",
   "metadata": {},
   "outputs": [],
   "source": [
    "dic1= {1:10, 2:20}\n",
    "dic2= {3:30, 4:40}\n",
    "dic3= {5:50, 6:60}\n",
    "\n",
    "dic1.update(dic2)\n",
    "dic1.update(dic3)\n",
    "print(dic1)"
   ]
  },
  {
   "cell_type": "markdown",
   "id": "aca4a39f",
   "metadata": {},
   "source": [
    "##### Q. Write a Python script to check whether a given key (10) already exists in a dictionary."
   ]
  },
  {
   "cell_type": "code",
   "execution_count": null,
   "id": "967a38a9",
   "metadata": {},
   "outputs": [],
   "source": [
    "a = {1: 10, 2: 20, 3: 30, 4: 40, 5: 50, 6: 60}\n",
    "\n",
    "if 10 not in a:\n",
    "    print(\" Key 10 is not present in the dictionary\")"
   ]
  },
  {
   "cell_type": "markdown",
   "id": "31344a08",
   "metadata": {},
   "source": [
    "##### Q. Write a Python program to remove a key(age) from a dictionary."
   ]
  },
  {
   "cell_type": "code",
   "execution_count": null,
   "id": "850dc8ee",
   "metadata": {},
   "outputs": [],
   "source": [
    "a = {'name': 'John Doe',\n",
    "    'age': 30,\n",
    "    'occupation': 'Software Engineer',\n",
    "    'email': 'john@example.com',\n",
    "    'is_employed': True}\n",
    "a.pop(\"age\")\n",
    "print(a)"
   ]
  },
  {
   "cell_type": "markdown",
   "id": "ed9063c5",
   "metadata": {},
   "source": [
    "##### Q. Write a Python program to remove duplicates from the dictionary."
   ]
  },
  {
   "cell_type": "code",
   "execution_count": null,
   "id": "54349a1d",
   "metadata": {},
   "outputs": [],
   "source": [
    "a = {'a': 1, 'b': 2, 'c': 1, 'd': 3, 'e': 2, 'f': 4}\n",
    "b= []\n",
    "op={}\n",
    "for key, value in a.items():\n",
    "    if value not in b:\n",
    "        b.append(value)\n",
    "        op[key]=value\n",
    "print(op)"
   ]
  },
  {
   "cell_type": "markdown",
   "id": "8ba9d77c",
   "metadata": {},
   "source": [
    "##### Q. Write a Python program to get the maximum and minimum values of a dictionary."
   ]
  },
  {
   "cell_type": "code",
   "execution_count": null,
   "id": "6c990535",
   "metadata": {},
   "outputs": [],
   "source": [
    "a = {'u':1000,'v':3000,'x':500, 'y':5874, 'z': 560}\n",
    "print('max value is =',max(a.values()))\n",
    "print('min value is =',min(a.values()))"
   ]
  },
  {
   "cell_type": "markdown",
   "id": "de97c5b5",
   "metadata": {},
   "source": [
    "##### Q. Write a Python program to check if a dictionary is empty or not."
   ]
  },
  {
   "cell_type": "code",
   "execution_count": null,
   "id": "00e96c23",
   "metadata": {},
   "outputs": [],
   "source": [
    "my_dict = {}\n",
    "type(my_dict)\n",
    "if my_dict == {}:\n",
    "    print('Dictionary is empty') "
   ]
  },
  {
   "cell_type": "markdown",
   "id": "e17c8c0b",
   "metadata": {},
   "source": [
    "##### Q. Write a Python program to create a dictionary of keys x, y, and z where each key has as value a list from 11-20, 21-30, and 31-40 respectively. Access the fifth value of each key from the dictionary."
   ]
  },
  {
   "cell_type": "code",
   "execution_count": null,
   "id": "131ee33d",
   "metadata": {
    "scrolled": true
   },
   "outputs": [],
   "source": [
    "a = {'x': [11, 12, 13, 14, 15, 16, 17, 18, 19],\n",
    "     'y': [21, 22, 23, 24, 25, 26, 27, 28, 29],\n",
    "     'z': [31, 32, 33, 34, 35, 36, 37, 38, 39]}\n",
    "for k,v in a.items():\n",
    "    for index, i in enumerate(v):\n",
    "        if (index==4):\n",
    "            print(i)"
   ]
  },
  {
   "cell_type": "markdown",
   "id": "daed7c66",
   "metadata": {},
   "source": [
    "##### Q. Write a Python program to drop empty items from a given dictionary."
   ]
  },
  {
   "cell_type": "code",
   "execution_count": null,
   "id": "69d69f8b",
   "metadata": {
    "scrolled": false
   },
   "outputs": [],
   "source": [
    "a = {'c1': 'Red', 'c2': 'Green', 'c3': None}\n",
    "b ={}\n",
    "for k,v in a.items():\n",
    "    if v!=None:\n",
    "        b[k]=v\n",
    "print(b)"
   ]
  },
  {
   "cell_type": "markdown",
   "id": "5e355126",
   "metadata": {},
   "source": [
    "##### Q. Write a Python program to filter a dictionary based on values>170"
   ]
  },
  {
   "cell_type": "code",
   "execution_count": null,
   "id": "f4c17c28",
   "metadata": {},
   "outputs": [],
   "source": [
    "a = {'Cierra Vega': 175, 'Alden Cantrell': 180, 'Kierra Gentry': 165, 'Pierre Cox': 190}\n",
    "b = {}\n",
    "for k,v in a.items():\n",
    "    if v >170:\n",
    "        b[k]=v\n",
    "print(b)    "
   ]
  },
  {
   "cell_type": "markdown",
   "id": "1f9bab5d",
   "metadata": {},
   "source": [
    "##### Q. Write a Python program to verify that all values in a dictionary are the same.\n"
   ]
  },
  {
   "cell_type": "code",
   "execution_count": null,
   "id": "8f2bc92a",
   "metadata": {},
   "outputs": [],
   "source": [
    "a = {'Cierra Vega': 12, 'Alden Cantrell': 12, 'Kierra Gentry': 12, 'Pierre Cox': 12}\n",
    "b = []\n",
    "for k,v in a.items():\n",
    "    b.append(v)\n",
    "    \n",
    "c = set(b)\n",
    "if (len(c)==1):\n",
    "    print(f'all value in dictionary are same value : {v}')"
   ]
  },
  {
   "cell_type": "markdown",
   "id": "e4181514",
   "metadata": {},
   "source": [
    "##### Q. Write a Python program to convert string values of a given dictionary into integer/float datatypes."
   ]
  },
  {
   "cell_type": "code",
   "execution_count": 13,
   "id": "3e9fe7a7",
   "metadata": {
    "scrolled": true
   },
   "outputs": [
    {
     "name": "stdout",
     "output_type": "stream",
     "text": [
      "[{'x': 10, 'y': 20, 'z': 30}, {'p': 40, 'q': 50, 'r': 60}]\n"
     ]
    }
   ],
   "source": [
    "a=[{'x': '10', 'y': '20', 'z': '30'}, {'p': '40', 'q': '50', 'r': '60'}]\n",
    "\n",
    "for dic in a:\n",
    "    for keys, values in dic.items():\n",
    "        dic[keys]=int(values)\n",
    "print(a)  "
   ]
  },
  {
   "cell_type": "markdown",
   "id": "a51cc0fc",
   "metadata": {},
   "source": [
    "##### Q. Write a Python program to filter even numbers from a dictionary of values."
   ]
  },
  {
   "cell_type": "code",
   "execution_count": 16,
   "id": "d0582d79",
   "metadata": {
    "scrolled": true
   },
   "outputs": [
    {
     "name": "stdout",
     "output_type": "stream",
     "text": [
      "{'V': [4, 6, 10], 'VI': [4, 12], 'VII': [8]}\n"
     ]
    }
   ],
   "source": [
    "a={'V': [1, 4, 6, 10], 'VI': [1, 4, 12], 'VII': [1, 3, 8]}\n",
    "for k,values in a.items():\n",
    "    b= [x for x in values if x % 2 == 0]\n",
    "    a[k]=b\n",
    "\n",
    "print(a)"
   ]
  },
  {
   "cell_type": "markdown",
   "id": "d07cdc73",
   "metadata": {},
   "source": [
    "# STRING"
   ]
  },
  {
   "cell_type": "markdown",
   "id": "6dff2a3f",
   "metadata": {},
   "source": [
    "##### Q. Write a Python program to count the number of characters (character frequency) in a string."
   ]
  },
  {
   "cell_type": "code",
   "execution_count": 22,
   "id": "3dd39ab7",
   "metadata": {},
   "outputs": [
    {
     "name": "stdout",
     "output_type": "stream",
     "text": [
      "{'g': 2, 'o': 3, 'l': 1, 'e': 1, '.': 1, 'c': 1, 'm': 1}\n"
     ]
    }
   ],
   "source": [
    "import collections\n",
    "a = \"google.com\"\n",
    "b = dict(collections.Counter(a))\n",
    "print(b)"
   ]
  },
  {
   "cell_type": "markdown",
   "id": "f25a3c93",
   "metadata": {},
   "source": [
    "##### Q. Write a Python program to get a string made of the first 2 and last 2 characters of a given string. If the string length is less than 2, return the empty string instead."
   ]
  },
  {
   "cell_type": "code",
   "execution_count": 30,
   "id": "c25ea5bb",
   "metadata": {},
   "outputs": [
    {
     "name": "stdout",
     "output_type": "stream",
     "text": [
      "w3ce\n"
     ]
    }
   ],
   "source": [
    "string='w3resource'\n",
    "f2 = string[0:2]\n",
    "l2 = string[-2:]\n",
    "print(f2+l2)\n",
    "\n",
    "# s2 = 'w3'\n",
    "# f = s2[0:2]\n",
    "# l = s2[-2:]\n",
    "# print(f+l)"
   ]
  },
  {
   "cell_type": "markdown",
   "id": "c29f38eb",
   "metadata": {},
   "source": [
    "##### Q. Write a Python program to remove the 5th index character from a nonempty string.\n"
   ]
  },
  {
   "cell_type": "code",
   "execution_count": 49,
   "id": "3ef12cd8",
   "metadata": {
    "scrolled": true
   },
   "outputs": [
    {
     "name": "stdout",
     "output_type": "stream",
     "text": [
      "<class 'str'> Pyhto\n"
     ]
    }
   ],
   "source": [
    "a=\"Pyhton\"\n",
    "if (len(a)>5):\n",
    "    b = list(a)\n",
    "    b.pop(5)\n",
    "    a = \"\".join(b)\n",
    "    print(type(a),a)"
   ]
  },
  {
   "cell_type": "markdown",
   "id": "60ddb2c8",
   "metadata": {},
   "source": [
    "##### Q. Write a Python program to count the occurrences of each word in a given sentence."
   ]
  },
  {
   "cell_type": "code",
   "execution_count": 58,
   "id": "f4ee5358",
   "metadata": {},
   "outputs": [
    {
     "name": "stdout",
     "output_type": "stream",
     "text": [
      "{'the': 2, 'quick': 1, 'brown': 1, 'fox': 1, 'jumps': 1, 'over': 1, 'lazy': 1, 'dog.': 1}\n"
     ]
    }
   ],
   "source": [
    "from collections import Counter\n",
    "a = 'the quick brown fox jumps over the lazy dog.'\n",
    "b = a.split(\" \")\n",
    "b = dict(Counter(b))\n",
    "print(b)"
   ]
  },
  {
   "cell_type": "markdown",
   "id": "64ef4c95",
   "metadata": {},
   "source": [
    "##### Q. Write a Python function to insert a string in the middle of a string."
   ]
  },
  {
   "cell_type": "code",
   "execution_count": 67,
   "id": "4c5d31eb",
   "metadata": {},
   "outputs": [
    {
     "name": "stdout",
     "output_type": "stream",
     "text": [
      "[[Python]]\n"
     ]
    }
   ],
   "source": [
    "a = ('[[]]', 'Python')\n",
    "\n",
    "b = a[0][:2]\n",
    "c = a[0][2:]\n",
    "d = a[1]\n",
    "r = b+d+c\n",
    "\n",
    "print(r)"
   ]
  },
  {
   "cell_type": "markdown",
   "id": "1d414089",
   "metadata": {},
   "source": [
    "##### Q. Write a Python function to reverse a string if its length is a multiple of 4."
   ]
  },
  {
   "cell_type": "code",
   "execution_count": 77,
   "id": "47815d0c",
   "metadata": {},
   "outputs": [
    {
     "name": "stdout",
     "output_type": "stream",
     "text": [
      "nohtyp\n"
     ]
    }
   ],
   "source": [
    "a= \"python\"\n",
    "# if (len(a)%4==0):     #__________if len of string is multiple of 4\n",
    "#     b = a[::-1]\n",
    "#     print(b)\n",
    "\n",
    "if (len(a)>=4):    #    if len of string is greater than or equal 4\n",
    "    b = a[::-1]\n",
    "    print(b)"
   ]
  },
  {
   "cell_type": "markdown",
   "id": "ccfb115f",
   "metadata": {},
   "source": [
    "##### Q. Write a Python program to check whether a string starts with specified characters (grow)."
   ]
  },
  {
   "cell_type": "code",
   "execution_count": 78,
   "id": "c2a2121e",
   "metadata": {},
   "outputs": [
    {
     "data": {
      "text/plain": [
       "True"
      ]
     },
     "execution_count": 78,
     "metadata": {},
     "output_type": "execute_result"
    }
   ],
   "source": [
    "a = \"growdataskills\"\n",
    "\"grow\" in a"
   ]
  },
  {
   "cell_type": "markdown",
   "id": "f73a0707",
   "metadata": {},
   "source": [
    "##### Q. Write a Python program to reverse words in a string."
   ]
  },
  {
   "cell_type": "code",
   "execution_count": 89,
   "id": "61b32c7f",
   "metadata": {},
   "outputs": [
    {
     "name": "stdout",
     "output_type": "stream",
     "text": [
      "dog. lazy the over jumps fox brown quick The\n"
     ]
    }
   ],
   "source": [
    "a = \"The quick brown fox jumps over the lazy dog.\"\n",
    "b = a.split(\" \")\n",
    "c = b[::-1]\n",
    "c = \" \".join(c)\n",
    "print(c)"
   ]
  },
  {
   "cell_type": "markdown",
   "id": "38ef8c43",
   "metadata": {},
   "source": [
    "##### Q. Write a Python program to check whether a string contains all letters of the alphabet."
   ]
  },
  {
   "cell_type": "code",
   "execution_count": 107,
   "id": "33feb26e",
   "metadata": {},
   "outputs": [
    {
     "data": {
      "text/plain": [
       "False"
      ]
     },
     "execution_count": 107,
     "metadata": {},
     "output_type": "execute_result"
    }
   ],
   "source": [
    "a = 'The quick brown fox jumps over the lazy cat'\n",
    "def alphabet(a):\n",
    "    c = a.lower()\n",
    "    b = 'abcdefghijklmnopqrstuvwxyz'\n",
    "    \n",
    "    for i in b :\n",
    "        if i not in c:\n",
    "            return False\n",
    "    return True\n",
    "alphabet(c)"
   ]
  },
  {
   "cell_type": "markdown",
   "id": "014ee518",
   "metadata": {},
   "source": [
    "##### Q. Write a Python program to count and display vowels in text."
   ]
  },
  {
   "cell_type": "code",
   "execution_count": 125,
   "id": "88913b7e",
   "metadata": {},
   "outputs": [
    {
     "name": "stdout",
     "output_type": "stream",
     "text": [
      "4 ['e', 'o', 'u', 'e']\n"
     ]
    }
   ],
   "source": [
    "string = \"resource\"\n",
    "def vowels(to_check):\n",
    "    b = []\n",
    "    for i in to_check :\n",
    "        if i in (\"aeiouAEIOU\"):\n",
    "            b.append(i)\n",
    "    print(len(b),b)\n",
    "vowels(string)"
   ]
  },
  {
   "cell_type": "code",
   "execution_count": null,
   "id": "564a4dfa",
   "metadata": {},
   "outputs": [],
   "source": []
  }
 ],
 "metadata": {
  "kernelspec": {
   "display_name": "Python 3 (ipykernel)",
   "language": "python",
   "name": "python3"
  },
  "language_info": {
   "codemirror_mode": {
    "name": "ipython",
    "version": 3
   },
   "file_extension": ".py",
   "mimetype": "text/x-python",
   "name": "python",
   "nbconvert_exporter": "python",
   "pygments_lexer": "ipython3",
   "version": "3.10.9"
  }
 },
 "nbformat": 4,
 "nbformat_minor": 5
}
